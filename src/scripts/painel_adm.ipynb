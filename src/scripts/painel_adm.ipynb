{
 "cells": [
  {
   "cell_type": "code",
   "execution_count": 1,
   "metadata": {},
   "outputs": [],
   "source": [
    "import pymongo, pandas as pd, bcrypt\n",
    "from gerar_relatorios import gerar_relatorios\n",
    "from mongo_url import mongo_url"
   ]
  },
  {
   "cell_type": "code",
   "execution_count": 2,
   "metadata": {},
   "outputs": [],
   "source": [
    "myclient = pymongo.MongoClient(mongo_url)"
   ]
  },
  {
   "cell_type": "markdown",
   "metadata": {},
   "source": [
    "# GERAR RELATÓRIOS DA INVESTIGAÇÃO"
   ]
  },
  {
   "cell_type": "code",
   "execution_count": null,
   "metadata": {},
   "outputs": [],
   "source": [
    "#  EXEMPLO DE CHAMADA QUE GERA OS RELATÓRIOS PARA A INVESTIGAÇÃO x E OS SALVA NA RESPECTIVA PASTA.\n",
    "# A PASTA DE DESTINO DEVE SER ONDE FICAM OS ARQUIVOS DO SERVIDOR WEB, \n",
    "# gerar_relatorios(id_inv, destination_path)"
   ]
  },
  {
   "cell_type": "markdown",
   "metadata": {},
   "source": [
    "# C.R.U.D. USUÁRIOS"
   ]
  },
  {
   "cell_type": "code",
   "execution_count": 3,
   "metadata": {},
   "outputs": [],
   "source": [
    "db_scdf_admin = myclient['SCDF_users']\n",
    "db_user = db_scdf_admin['users']"
   ]
  },
  {
   "cell_type": "code",
   "execution_count": 4,
   "metadata": {},
   "outputs": [],
   "source": [
    "def insert_user(user, passwd, hashed=True):\n",
    "    if db_user.find_one({'user':user}):\n",
    "        return False\n",
    "    if hashed:\n",
    "        senha = bcrypt.hashpw(passwd.encode('utf-8'), bcrypt.gensalt(10))\n",
    "    else:\n",
    "        senha = passwd\n",
    "    db_user.insert_one({\n",
    "        'user':user,\n",
    "        'psswd':senha,\n",
    "        'investigations':[]\n",
    "    })"
   ]
  },
  {
   "cell_type": "code",
   "execution_count": 5,
   "metadata": {},
   "outputs": [],
   "source": [
    "def update_user(old_user, new_user, passwd=True, hashed=True):\n",
    "    if not db_user.find_one({'user':user}):\n",
    "        return False\n",
    "    if hashed:\n",
    "        senha = bcrypt.hashpw(passwd.encode('utf-8'), bcrypt.gensalt(10))\n",
    "    else:\n",
    "        senha = passwd\n",
    "    if passwd:\n",
    "        db_user.update_one({'user':old_user},{'$set':{\n",
    "            'user':old_user,\n",
    "            'psswd':senha\n",
    "        }})\n",
    "    else:\n",
    "        db_user.update_one({'user':old_user},{'$set':{\n",
    "            'user':new_user\n",
    "        }})"
   ]
  },
  {
   "cell_type": "code",
   "execution_count": 6,
   "metadata": {},
   "outputs": [],
   "source": [
    "def update_user_inv(user, investigations):\n",
    "    if not db_user.find_one({'user':user}):\n",
    "        return False\n",
    "    for inv in investigations:\n",
    "        db_user.update_one({'user':user},{'$push':{\n",
    "            'investigations':{\n",
    "                'nome_investigacao':inv['nome_investigacao'],\n",
    "                'id_inv':inv['id_inv']\n",
    "            }\n",
    "        }})"
   ]
  },
  {
   "cell_type": "code",
   "execution_count": 7,
   "metadata": {},
   "outputs": [],
   "source": [
    "def delete_user(user):\n",
    "    try:\n",
    "        db_user.delete_one({'user':user})\n",
    "        return True\n",
    "    except:\n",
    "        return False"
   ]
  },
  {
   "cell_type": "code",
   "execution_count": 8,
   "metadata": {},
   "outputs": [],
   "source": [
    "def find_users():\n",
    "    for u in db_user.find({}):\n",
    "        print(u)"
   ]
  },
  {
   "cell_type": "code",
   "execution_count": 9,
   "metadata": {},
   "outputs": [
    {
     "data": {
      "text/plain": [
       "True"
      ]
     },
     "execution_count": 9,
     "metadata": {},
     "output_type": "execute_result"
    }
   ],
   "source": [
    "# DELETAR USUÁRIO\n",
    "delete_user('danilo')"
   ]
  },
  {
   "cell_type": "code",
   "execution_count": 10,
   "metadata": {},
   "outputs": [],
   "source": [
    "# INSERIR USUÁRIO\n",
    "insert_user('danilo', '123', hashed=False)"
   ]
  },
  {
   "cell_type": "code",
   "execution_count": 11,
   "metadata": {},
   "outputs": [],
   "source": [
    "# ATUALIZAR USUÁRIO JÁ EXISTENTE (SENHA OU NOME DE USUÁRIO)\n",
    "# update_user(old_user, new_user, passwd=True, hashed=True)"
   ]
  },
  {
   "cell_type": "code",
   "execution_count": 12,
   "metadata": {},
   "outputs": [],
   "source": [
    "# ADICIONAR INVESTIGAÇÕES PARA USUÁRIO EXISTENTE\n",
    "# CADA INVESTIGAÇÃO É UM DICIONÁRIO: {'nome_investigacao':'Investigação...','id_inv':'...'}\n",
    "update_user_inv('danilo', [{'nome_investigacao':'Teste 1','id_inv':'455b8232'}])"
   ]
  },
  {
   "cell_type": "code",
   "execution_count": 13,
   "metadata": {},
   "outputs": [
    {
     "name": "stdout",
     "output_type": "stream",
     "text": [
      "{'_id': ObjectId('5db721b5e44b7120b1c4438d'), 'user': 'danilo', 'psswd': '123', 'investigations': [{'nome_investigacao': 'Teste 1', 'id_inv': '455b8232'}]}\n"
     ]
    }
   ],
   "source": [
    "# LISTAR TODOS OS USUÁRIOS\n",
    "find_users()"
   ]
  },
  {
   "cell_type": "markdown",
   "metadata": {},
   "source": [
    "# DELETAR INVESTIGAÇÃO"
   ]
  },
  {
   "cell_type": "code",
   "execution_count": 3,
   "metadata": {},
   "outputs": [],
   "source": [
    "id_inv = None"
   ]
  },
  {
   "cell_type": "code",
   "execution_count": 4,
   "metadata": {},
   "outputs": [],
   "source": [
    "if id_inv:\n",
    "    db_investigacao = myclient[\"SCDF_\"+id_inv]"
   ]
  },
  {
   "cell_type": "code",
   "execution_count": null,
   "metadata": {},
   "outputs": [],
   "source": [
    "def drop_inv(db_investigacao):\n",
    "    db_investigacao.drop() \n",
    "    return True"
   ]
  }
 ],
 "metadata": {
  "kernelspec": {
   "display_name": "Python 3.8.5 ('base')",
   "language": "python",
   "name": "python3"
  },
  "language_info": {
   "codemirror_mode": {
    "name": "ipython",
    "version": 3
   },
   "file_extension": ".py",
   "mimetype": "text/x-python",
   "name": "python",
   "nbconvert_exporter": "python",
   "pygments_lexer": "ipython3",
   "version": "3.8.5"
  },
  "vscode": {
   "interpreter": {
    "hash": "bf6e68f63c5332c5a5c0afd729fba59b86b097c63a7331fcdf5575bcde342b88"
   }
  }
 },
 "nbformat": 4,
 "nbformat_minor": 2
}
